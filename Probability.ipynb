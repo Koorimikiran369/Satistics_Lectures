{
 "cells": [
  {
   "cell_type": "code",
   "execution_count": 2,
   "id": "b46ebfe0",
   "metadata": {},
   "outputs": [],
   "source": [
    "import pandas as pd\n",
    "import numpy as np\n",
    "\n"
   ]
  },
  {
   "cell_type": "code",
   "execution_count": 3,
   "id": "277824d4",
   "metadata": {},
   "outputs": [
    {
     "data": {
      "text/html": [
       "<div>\n",
       "<style scoped>\n",
       "    .dataframe tbody tr th:only-of-type {\n",
       "        vertical-align: middle;\n",
       "    }\n",
       "\n",
       "    .dataframe tbody tr th {\n",
       "        vertical-align: top;\n",
       "    }\n",
       "\n",
       "    .dataframe thead th {\n",
       "        text-align: right;\n",
       "    }\n",
       "</style>\n",
       "<table border=\"1\" class=\"dataframe\">\n",
       "  <thead>\n",
       "    <tr style=\"text-align: right;\">\n",
       "      <th></th>\n",
       "      <th>Outlook</th>\n",
       "      <th>Temperature</th>\n",
       "      <th>Humidity</th>\n",
       "      <th>Wind</th>\n",
       "      <th>Play Tennis</th>\n",
       "    </tr>\n",
       "  </thead>\n",
       "  <tbody>\n",
       "    <tr>\n",
       "      <th>0</th>\n",
       "      <td>Sunny</td>\n",
       "      <td>Hot</td>\n",
       "      <td>High</td>\n",
       "      <td>Weak</td>\n",
       "      <td>No</td>\n",
       "    </tr>\n",
       "    <tr>\n",
       "      <th>1</th>\n",
       "      <td>Sunny</td>\n",
       "      <td>Hot</td>\n",
       "      <td>High</td>\n",
       "      <td>Strong</td>\n",
       "      <td>No</td>\n",
       "    </tr>\n",
       "    <tr>\n",
       "      <th>2</th>\n",
       "      <td>Overcast</td>\n",
       "      <td>Hot</td>\n",
       "      <td>High</td>\n",
       "      <td>Weak</td>\n",
       "      <td>Yes</td>\n",
       "    </tr>\n",
       "    <tr>\n",
       "      <th>3</th>\n",
       "      <td>Rain</td>\n",
       "      <td>Mild</td>\n",
       "      <td>High</td>\n",
       "      <td>Weak</td>\n",
       "      <td>Yes</td>\n",
       "    </tr>\n",
       "    <tr>\n",
       "      <th>4</th>\n",
       "      <td>Rain</td>\n",
       "      <td>Cool</td>\n",
       "      <td>Normal</td>\n",
       "      <td>Weak</td>\n",
       "      <td>Yes</td>\n",
       "    </tr>\n",
       "    <tr>\n",
       "      <th>5</th>\n",
       "      <td>Rain</td>\n",
       "      <td>Cool</td>\n",
       "      <td>Normal</td>\n",
       "      <td>Strong</td>\n",
       "      <td>No</td>\n",
       "    </tr>\n",
       "    <tr>\n",
       "      <th>6</th>\n",
       "      <td>Overcast</td>\n",
       "      <td>Cool</td>\n",
       "      <td>Normal</td>\n",
       "      <td>Strong</td>\n",
       "      <td>Yes</td>\n",
       "    </tr>\n",
       "    <tr>\n",
       "      <th>7</th>\n",
       "      <td>Sunny</td>\n",
       "      <td>Mild</td>\n",
       "      <td>High</td>\n",
       "      <td>Weak</td>\n",
       "      <td>No</td>\n",
       "    </tr>\n",
       "    <tr>\n",
       "      <th>8</th>\n",
       "      <td>Sunny</td>\n",
       "      <td>Cool</td>\n",
       "      <td>Normal</td>\n",
       "      <td>Weak</td>\n",
       "      <td>Yes</td>\n",
       "    </tr>\n",
       "    <tr>\n",
       "      <th>9</th>\n",
       "      <td>Rain</td>\n",
       "      <td>Mild</td>\n",
       "      <td>Normal</td>\n",
       "      <td>Weak</td>\n",
       "      <td>Yes</td>\n",
       "    </tr>\n",
       "    <tr>\n",
       "      <th>10</th>\n",
       "      <td>Sunny</td>\n",
       "      <td>Mild</td>\n",
       "      <td>Normal</td>\n",
       "      <td>Strong</td>\n",
       "      <td>Yes</td>\n",
       "    </tr>\n",
       "    <tr>\n",
       "      <th>11</th>\n",
       "      <td>Overcast</td>\n",
       "      <td>Mild</td>\n",
       "      <td>High</td>\n",
       "      <td>Strong</td>\n",
       "      <td>Yes</td>\n",
       "    </tr>\n",
       "    <tr>\n",
       "      <th>12</th>\n",
       "      <td>Overcast</td>\n",
       "      <td>Hot</td>\n",
       "      <td>Normal</td>\n",
       "      <td>Weak</td>\n",
       "      <td>Yes</td>\n",
       "    </tr>\n",
       "    <tr>\n",
       "      <th>13</th>\n",
       "      <td>Rain</td>\n",
       "      <td>Mild</td>\n",
       "      <td>High</td>\n",
       "      <td>Strong</td>\n",
       "      <td>No</td>\n",
       "    </tr>\n",
       "  </tbody>\n",
       "</table>\n",
       "</div>"
      ],
      "text/plain": [
       "     Outlook Temperature Humidity    Wind Play Tennis\n",
       "0      Sunny         Hot     High    Weak          No\n",
       "1      Sunny         Hot     High  Strong          No\n",
       "2   Overcast         Hot     High    Weak         Yes\n",
       "3       Rain        Mild     High    Weak         Yes\n",
       "4       Rain        Cool   Normal    Weak         Yes\n",
       "5       Rain        Cool   Normal  Strong          No\n",
       "6   Overcast        Cool   Normal  Strong         Yes\n",
       "7      Sunny        Mild     High    Weak          No\n",
       "8      Sunny        Cool   Normal    Weak         Yes\n",
       "9       Rain        Mild   Normal    Weak         Yes\n",
       "10     Sunny        Mild   Normal  Strong         Yes\n",
       "11  Overcast        Mild     High  Strong         Yes\n",
       "12  Overcast         Hot   Normal    Weak         Yes\n",
       "13      Rain        Mild     High  Strong          No"
      ]
     },
     "execution_count": 3,
     "metadata": {},
     "output_type": "execute_result"
    }
   ],
   "source": [
    "tennis = pd.read_csv('https://gist.githubusercontent.com/DiogoRibeiro7/c6590d0cf119e87c39e31c21a9c0f3a8/raw/4a8e3da267a0c1f0d650901d8295a5153bde8b21/PlayTennis.csv')\n",
    "tennis"
   ]
  },
  {
   "cell_type": "code",
   "execution_count": null,
   "id": "003567ed",
   "metadata": {},
   "outputs": [],
   "source": []
  },
  {
   "cell_type": "code",
   "execution_count": 7,
   "id": "914be40b",
   "metadata": {},
   "outputs": [
    {
     "data": {
      "text/html": [
       "<div>\n",
       "<style scoped>\n",
       "    .dataframe tbody tr th:only-of-type {\n",
       "        vertical-align: middle;\n",
       "    }\n",
       "\n",
       "    .dataframe tbody tr th {\n",
       "        vertical-align: top;\n",
       "    }\n",
       "\n",
       "    .dataframe thead th {\n",
       "        text-align: right;\n",
       "    }\n",
       "</style>\n",
       "<table border=\"1\" class=\"dataframe\">\n",
       "  <thead>\n",
       "    <tr style=\"text-align: right;\">\n",
       "      <th>Play Tennis</th>\n",
       "      <th>No</th>\n",
       "      <th>Yes</th>\n",
       "      <th>All</th>\n",
       "    </tr>\n",
       "    <tr>\n",
       "      <th>Outlook</th>\n",
       "      <th></th>\n",
       "      <th></th>\n",
       "      <th></th>\n",
       "    </tr>\n",
       "  </thead>\n",
       "  <tbody>\n",
       "    <tr>\n",
       "      <th>Overcast</th>\n",
       "      <td>0.000000</td>\n",
       "      <td>0.285714</td>\n",
       "      <td>0.285714</td>\n",
       "    </tr>\n",
       "    <tr>\n",
       "      <th>Rain</th>\n",
       "      <td>0.142857</td>\n",
       "      <td>0.214286</td>\n",
       "      <td>0.357143</td>\n",
       "    </tr>\n",
       "    <tr>\n",
       "      <th>Sunny</th>\n",
       "      <td>0.214286</td>\n",
       "      <td>0.142857</td>\n",
       "      <td>0.357143</td>\n",
       "    </tr>\n",
       "    <tr>\n",
       "      <th>All</th>\n",
       "      <td>0.357143</td>\n",
       "      <td>0.642857</td>\n",
       "      <td>1.000000</td>\n",
       "    </tr>\n",
       "  </tbody>\n",
       "</table>\n",
       "</div>"
      ],
      "text/plain": [
       "Play Tennis        No       Yes       All\n",
       "Outlook                                  \n",
       "Overcast     0.000000  0.285714  0.285714\n",
       "Rain         0.142857  0.214286  0.357143\n",
       "Sunny        0.214286  0.142857  0.357143\n",
       "All          0.357143  0.642857  1.000000"
      ]
     },
     "execution_count": 7,
     "metadata": {},
     "output_type": "execute_result"
    }
   ],
   "source": [
    "tennis_ct = pd.crosstab(tennis['Outlook'],tennis['Play Tennis'],margins=True)/len(tennis)\n",
    "tennis_ct"
   ]
  },
  {
   "cell_type": "code",
   "execution_count": 34,
   "id": "d0a599c1",
   "metadata": {},
   "outputs": [
    {
     "data": {
      "text/plain": [
       "0.14285714285714285"
      ]
     },
     "execution_count": 34,
     "metadata": {},
     "output_type": "execute_result"
    }
   ],
   "source": [
    "tennis_ct.No.Rain"
   ]
  },
  {
   "cell_type": "markdown",
   "id": "2b3f1d05",
   "metadata": {},
   "source": [
    "### Marginal Probabilities:\n",
    "- p(over)\n",
    "- p(rainy)\n",
    "- p(sunny)\n",
    "- p(yes)\n",
    "- p(no)"
   ]
  },
  {
   "cell_type": "code",
   "execution_count": 12,
   "id": "0d773048",
   "metadata": {},
   "outputs": [
    {
     "data": {
      "text/plain": [
       "0.35714285714285715"
      ]
     },
     "execution_count": 12,
     "metadata": {},
     "output_type": "execute_result"
    }
   ],
   "source": [
    "tennis_ct.No.All"
   ]
  },
  {
   "cell_type": "code",
   "execution_count": 18,
   "id": "64b422cd",
   "metadata": {},
   "outputs": [],
   "source": [
    "p_over = tennis_ct.All.Overcast\n",
    "p_sunny = tennis_ct.All.Sunny\n",
    "p_rain = tennis_ct.All.Rain\n",
    "\n",
    "p_no =tennis_ct.No.All\n",
    "p_yes = tennis_ct.Yes.All"
   ]
  },
  {
   "cell_type": "markdown",
   "id": "63792522",
   "metadata": {},
   "source": [
    "### joint Probabilities\n",
    "- p(no and over)\n",
    "- p(yes ana over)\n",
    "\n",
    "- p(no and sunny)\n",
    "- p(yes and sunny)\n",
    "\n",
    "- p(no and rain)\n",
    "- p(yes and rain)"
   ]
  },
  {
   "cell_type": "code",
   "execution_count": 16,
   "id": "ca62f0ac",
   "metadata": {},
   "outputs": [
    {
     "data": {
      "text/plain": [
       "0.0"
      ]
     },
     "execution_count": 16,
     "metadata": {},
     "output_type": "execute_result"
    }
   ],
   "source": [
    "tennis_ct.No.Overcast"
   ]
  },
  {
   "cell_type": "code",
   "execution_count": 17,
   "id": "60244a98",
   "metadata": {},
   "outputs": [],
   "source": [
    "p_no_over =tennis_ct.No.Overcast\n",
    "p_yes_over = tennis_ct.Yes.Overcast\n",
    "\n",
    "p_no_sunny = tennis_ct.No.Sunny\n",
    "p_yes_sunny = tennis_ct.Yes.Sunny\n",
    "\n",
    "p_no_rain = tennis_ct.No.Rain\n",
    "p_yes_rain = tennis_ct.Yes.Rain"
   ]
  },
  {
   "cell_type": "markdown",
   "id": "dfb66f44",
   "metadata": {},
   "source": [
    "### Conditional probabilities\n",
    "- p(no/over) = p(no intersection over)/p(over)\n",
    "- p(yes/over)\n",
    "\n",
    "- p(no/sunny)\n",
    "- p(yes/sunny)\n",
    "\n",
    "- p(no/rain)\n",
    "- p(yes/rain)"
   ]
  },
  {
   "cell_type": "code",
   "execution_count": 19,
   "id": "6c13a595",
   "metadata": {},
   "outputs": [],
   "source": [
    "p_no_given_over = p_no_over / p_over\n",
    "p_yes_given_over = p_yes_over / p_over\n",
    "\n",
    "p_no_given_sunny = p_no_sunny / p_sunny\n",
    "p_yes_given_sunny = p_yes_sunny / p_sunny\n",
    "\n",
    "p_no_given_rain = p_no_rain / p_rain\n",
    "p_yes_given_rain = p_yes_rain / p_rain"
   ]
  },
  {
   "cell_type": "code",
   "execution_count": 21,
   "id": "077ce944",
   "metadata": {},
   "outputs": [
    {
     "data": {
      "text/plain": [
       "(0.39999999999999997, 0.6)"
      ]
     },
     "execution_count": 21,
     "metadata": {},
     "output_type": "execute_result"
    }
   ],
   "source": [
    "p_no_given_rain,p_yes_given_rain"
   ]
  },
  {
   "cell_type": "code",
   "execution_count": 23,
   "id": "d467c17e",
   "metadata": {},
   "outputs": [
    {
     "data": {
      "text/plain": [
       "True"
      ]
     },
     "execution_count": 23,
     "metadata": {},
     "output_type": "execute_result"
    }
   ],
   "source": [
    "a = 2\n",
    "b = 3\n",
    "a<b"
   ]
  },
  {
   "cell_type": "code",
   "execution_count": 24,
   "id": "c2d21c39",
   "metadata": {},
   "outputs": [],
   "source": [
    "def prediction(a,b):\n",
    "    if a > b:\n",
    "        return 'No'\n",
    "    else:\n",
    "        return 'yes'"
   ]
  },
  {
   "cell_type": "code",
   "execution_count": 25,
   "id": "705b8565",
   "metadata": {},
   "outputs": [
    {
     "data": {
      "text/plain": [
       "'yes'"
      ]
     },
     "execution_count": 25,
     "metadata": {},
     "output_type": "execute_result"
    }
   ],
   "source": [
    "prediction(p_no_given_rain,p_yes_given_rain)"
   ]
  },
  {
   "cell_type": "code",
   "execution_count": 28,
   "id": "be6c5f18",
   "metadata": {},
   "outputs": [],
   "source": [
    "pred = []\n",
    "for i in tennis['Outlook']:\n",
    "    if i == 'Sunny':\n",
    "        pred.append(prediction(p_no_given_sunny,p_yes_given_sunny))\n",
    "    elif i == 'Overcast':\n",
    "        pred.append(prediction(p_no_given_over,p_yes_given_over))\n",
    "    else:\n",
    "        pred.append(prediction(p_no_given_rain,p_yes_given_rain))\n",
    "        \n",
    "        "
   ]
  },
  {
   "cell_type": "code",
   "execution_count": 29,
   "id": "3df7915b",
   "metadata": {},
   "outputs": [],
   "source": [
    "tennis['new_play'] = pred"
   ]
  },
  {
   "cell_type": "code",
   "execution_count": 30,
   "id": "de2886ef",
   "metadata": {},
   "outputs": [
    {
     "data": {
      "text/html": [
       "<div>\n",
       "<style scoped>\n",
       "    .dataframe tbody tr th:only-of-type {\n",
       "        vertical-align: middle;\n",
       "    }\n",
       "\n",
       "    .dataframe tbody tr th {\n",
       "        vertical-align: top;\n",
       "    }\n",
       "\n",
       "    .dataframe thead th {\n",
       "        text-align: right;\n",
       "    }\n",
       "</style>\n",
       "<table border=\"1\" class=\"dataframe\">\n",
       "  <thead>\n",
       "    <tr style=\"text-align: right;\">\n",
       "      <th></th>\n",
       "      <th>Outlook</th>\n",
       "      <th>Temperature</th>\n",
       "      <th>Humidity</th>\n",
       "      <th>Wind</th>\n",
       "      <th>Play Tennis</th>\n",
       "      <th>new_play</th>\n",
       "    </tr>\n",
       "  </thead>\n",
       "  <tbody>\n",
       "    <tr>\n",
       "      <th>0</th>\n",
       "      <td>Sunny</td>\n",
       "      <td>Hot</td>\n",
       "      <td>High</td>\n",
       "      <td>Weak</td>\n",
       "      <td>No</td>\n",
       "      <td>No</td>\n",
       "    </tr>\n",
       "    <tr>\n",
       "      <th>1</th>\n",
       "      <td>Sunny</td>\n",
       "      <td>Hot</td>\n",
       "      <td>High</td>\n",
       "      <td>Strong</td>\n",
       "      <td>No</td>\n",
       "      <td>No</td>\n",
       "    </tr>\n",
       "    <tr>\n",
       "      <th>2</th>\n",
       "      <td>Overcast</td>\n",
       "      <td>Hot</td>\n",
       "      <td>High</td>\n",
       "      <td>Weak</td>\n",
       "      <td>Yes</td>\n",
       "      <td>yes</td>\n",
       "    </tr>\n",
       "    <tr>\n",
       "      <th>3</th>\n",
       "      <td>Rain</td>\n",
       "      <td>Mild</td>\n",
       "      <td>High</td>\n",
       "      <td>Weak</td>\n",
       "      <td>Yes</td>\n",
       "      <td>yes</td>\n",
       "    </tr>\n",
       "    <tr>\n",
       "      <th>4</th>\n",
       "      <td>Rain</td>\n",
       "      <td>Cool</td>\n",
       "      <td>Normal</td>\n",
       "      <td>Weak</td>\n",
       "      <td>Yes</td>\n",
       "      <td>yes</td>\n",
       "    </tr>\n",
       "    <tr>\n",
       "      <th>5</th>\n",
       "      <td>Rain</td>\n",
       "      <td>Cool</td>\n",
       "      <td>Normal</td>\n",
       "      <td>Strong</td>\n",
       "      <td>No</td>\n",
       "      <td>yes</td>\n",
       "    </tr>\n",
       "    <tr>\n",
       "      <th>6</th>\n",
       "      <td>Overcast</td>\n",
       "      <td>Cool</td>\n",
       "      <td>Normal</td>\n",
       "      <td>Strong</td>\n",
       "      <td>Yes</td>\n",
       "      <td>yes</td>\n",
       "    </tr>\n",
       "    <tr>\n",
       "      <th>7</th>\n",
       "      <td>Sunny</td>\n",
       "      <td>Mild</td>\n",
       "      <td>High</td>\n",
       "      <td>Weak</td>\n",
       "      <td>No</td>\n",
       "      <td>No</td>\n",
       "    </tr>\n",
       "    <tr>\n",
       "      <th>8</th>\n",
       "      <td>Sunny</td>\n",
       "      <td>Cool</td>\n",
       "      <td>Normal</td>\n",
       "      <td>Weak</td>\n",
       "      <td>Yes</td>\n",
       "      <td>No</td>\n",
       "    </tr>\n",
       "    <tr>\n",
       "      <th>9</th>\n",
       "      <td>Rain</td>\n",
       "      <td>Mild</td>\n",
       "      <td>Normal</td>\n",
       "      <td>Weak</td>\n",
       "      <td>Yes</td>\n",
       "      <td>yes</td>\n",
       "    </tr>\n",
       "    <tr>\n",
       "      <th>10</th>\n",
       "      <td>Sunny</td>\n",
       "      <td>Mild</td>\n",
       "      <td>Normal</td>\n",
       "      <td>Strong</td>\n",
       "      <td>Yes</td>\n",
       "      <td>No</td>\n",
       "    </tr>\n",
       "    <tr>\n",
       "      <th>11</th>\n",
       "      <td>Overcast</td>\n",
       "      <td>Mild</td>\n",
       "      <td>High</td>\n",
       "      <td>Strong</td>\n",
       "      <td>Yes</td>\n",
       "      <td>yes</td>\n",
       "    </tr>\n",
       "    <tr>\n",
       "      <th>12</th>\n",
       "      <td>Overcast</td>\n",
       "      <td>Hot</td>\n",
       "      <td>Normal</td>\n",
       "      <td>Weak</td>\n",
       "      <td>Yes</td>\n",
       "      <td>yes</td>\n",
       "    </tr>\n",
       "    <tr>\n",
       "      <th>13</th>\n",
       "      <td>Rain</td>\n",
       "      <td>Mild</td>\n",
       "      <td>High</td>\n",
       "      <td>Strong</td>\n",
       "      <td>No</td>\n",
       "      <td>yes</td>\n",
       "    </tr>\n",
       "  </tbody>\n",
       "</table>\n",
       "</div>"
      ],
      "text/plain": [
       "     Outlook Temperature Humidity    Wind Play Tennis new_play\n",
       "0      Sunny         Hot     High    Weak          No       No\n",
       "1      Sunny         Hot     High  Strong          No       No\n",
       "2   Overcast         Hot     High    Weak         Yes      yes\n",
       "3       Rain        Mild     High    Weak         Yes      yes\n",
       "4       Rain        Cool   Normal    Weak         Yes      yes\n",
       "5       Rain        Cool   Normal  Strong          No      yes\n",
       "6   Overcast        Cool   Normal  Strong         Yes      yes\n",
       "7      Sunny        Mild     High    Weak          No       No\n",
       "8      Sunny        Cool   Normal    Weak         Yes       No\n",
       "9       Rain        Mild   Normal    Weak         Yes      yes\n",
       "10     Sunny        Mild   Normal  Strong         Yes       No\n",
       "11  Overcast        Mild     High  Strong         Yes      yes\n",
       "12  Overcast         Hot   Normal    Weak         Yes      yes\n",
       "13      Rain        Mild     High  Strong          No      yes"
      ]
     },
     "execution_count": 30,
     "metadata": {},
     "output_type": "execute_result"
    }
   ],
   "source": [
    "tennis"
   ]
  },
  {
   "cell_type": "code",
   "execution_count": 31,
   "id": "b2e3da57",
   "metadata": {},
   "outputs": [
    {
     "data": {
      "text/plain": [
       "0.7142857142857143"
      ]
     },
     "execution_count": 31,
     "metadata": {},
     "output_type": "execute_result"
    }
   ],
   "source": [
    "10/14"
   ]
  },
  {
   "cell_type": "markdown",
   "id": "40ba84b2",
   "metadata": {},
   "source": [
    "### Probability Distributions"
   ]
  },
  {
   "cell_type": "code",
   "execution_count": 3,
   "id": "8161d177",
   "metadata": {},
   "outputs": [],
   "source": [
    "dice1 = np.arange(1,7)\n",
    "dice2 = np.arange(1,7)"
   ]
  },
  {
   "cell_type": "code",
   "execution_count": 5,
   "id": "a238e5cb",
   "metadata": {},
   "outputs": [
    {
     "data": {
      "text/plain": [
       "(array([1, 2, 3, 4, 5, 6]), array([1, 2, 3, 4, 5, 6]))"
      ]
     },
     "execution_count": 5,
     "metadata": {},
     "output_type": "execute_result"
    }
   ],
   "source": [
    "dice1,dice2"
   ]
  },
  {
   "cell_type": "code",
   "execution_count": 53,
   "id": "c112fe0c",
   "metadata": {},
   "outputs": [
    {
     "data": {
      "text/html": [
       "<div>\n",
       "<style scoped>\n",
       "    .dataframe tbody tr th:only-of-type {\n",
       "        vertical-align: middle;\n",
       "    }\n",
       "\n",
       "    .dataframe tbody tr th {\n",
       "        vertical-align: top;\n",
       "    }\n",
       "\n",
       "    .dataframe thead th {\n",
       "        text-align: right;\n",
       "    }\n",
       "</style>\n",
       "<table border=\"1\" class=\"dataframe\">\n",
       "  <thead>\n",
       "    <tr style=\"text-align: right;\">\n",
       "      <th></th>\n",
       "      <th>0</th>\n",
       "      <th>1</th>\n",
       "    </tr>\n",
       "  </thead>\n",
       "  <tbody>\n",
       "    <tr>\n",
       "      <th>0</th>\n",
       "      <td>1</td>\n",
       "      <td>1</td>\n",
       "    </tr>\n",
       "    <tr>\n",
       "      <th>1</th>\n",
       "      <td>1</td>\n",
       "      <td>2</td>\n",
       "    </tr>\n",
       "    <tr>\n",
       "      <th>2</th>\n",
       "      <td>1</td>\n",
       "      <td>3</td>\n",
       "    </tr>\n",
       "    <tr>\n",
       "      <th>3</th>\n",
       "      <td>1</td>\n",
       "      <td>4</td>\n",
       "    </tr>\n",
       "    <tr>\n",
       "      <th>4</th>\n",
       "      <td>1</td>\n",
       "      <td>5</td>\n",
       "    </tr>\n",
       "  </tbody>\n",
       "</table>\n",
       "</div>"
      ],
      "text/plain": [
       "   0  1\n",
       "0  1  1\n",
       "1  1  2\n",
       "2  1  3\n",
       "3  1  4\n",
       "4  1  5"
      ]
     },
     "execution_count": 53,
     "metadata": {},
     "output_type": "execute_result"
    }
   ],
   "source": [
    "df = pd.DataFrame(np.array(np.meshgrid(dice1,dice2)).T.reshape(-1,2))\n",
    "df.head()"
   ]
  },
  {
   "cell_type": "code",
   "execution_count": 54,
   "id": "97d34063",
   "metadata": {},
   "outputs": [],
   "source": [
    "df.columns = ['dice1','dice2']"
   ]
  },
  {
   "cell_type": "code",
   "execution_count": 55,
   "id": "2ef88212",
   "metadata": {},
   "outputs": [
    {
     "data": {
      "text/html": [
       "<div>\n",
       "<style scoped>\n",
       "    .dataframe tbody tr th:only-of-type {\n",
       "        vertical-align: middle;\n",
       "    }\n",
       "\n",
       "    .dataframe tbody tr th {\n",
       "        vertical-align: top;\n",
       "    }\n",
       "\n",
       "    .dataframe thead th {\n",
       "        text-align: right;\n",
       "    }\n",
       "</style>\n",
       "<table border=\"1\" class=\"dataframe\">\n",
       "  <thead>\n",
       "    <tr style=\"text-align: right;\">\n",
       "      <th></th>\n",
       "      <th>dice1</th>\n",
       "      <th>dice2</th>\n",
       "      <th>Sum</th>\n",
       "    </tr>\n",
       "  </thead>\n",
       "  <tbody>\n",
       "    <tr>\n",
       "      <th>0</th>\n",
       "      <td>1</td>\n",
       "      <td>1</td>\n",
       "      <td>2</td>\n",
       "    </tr>\n",
       "    <tr>\n",
       "      <th>1</th>\n",
       "      <td>1</td>\n",
       "      <td>2</td>\n",
       "      <td>3</td>\n",
       "    </tr>\n",
       "    <tr>\n",
       "      <th>2</th>\n",
       "      <td>1</td>\n",
       "      <td>3</td>\n",
       "      <td>4</td>\n",
       "    </tr>\n",
       "    <tr>\n",
       "      <th>3</th>\n",
       "      <td>1</td>\n",
       "      <td>4</td>\n",
       "      <td>5</td>\n",
       "    </tr>\n",
       "    <tr>\n",
       "      <th>4</th>\n",
       "      <td>1</td>\n",
       "      <td>5</td>\n",
       "      <td>6</td>\n",
       "    </tr>\n",
       "    <tr>\n",
       "      <th>5</th>\n",
       "      <td>1</td>\n",
       "      <td>6</td>\n",
       "      <td>7</td>\n",
       "    </tr>\n",
       "    <tr>\n",
       "      <th>6</th>\n",
       "      <td>2</td>\n",
       "      <td>1</td>\n",
       "      <td>3</td>\n",
       "    </tr>\n",
       "    <tr>\n",
       "      <th>7</th>\n",
       "      <td>2</td>\n",
       "      <td>2</td>\n",
       "      <td>4</td>\n",
       "    </tr>\n",
       "    <tr>\n",
       "      <th>8</th>\n",
       "      <td>2</td>\n",
       "      <td>3</td>\n",
       "      <td>5</td>\n",
       "    </tr>\n",
       "    <tr>\n",
       "      <th>9</th>\n",
       "      <td>2</td>\n",
       "      <td>4</td>\n",
       "      <td>6</td>\n",
       "    </tr>\n",
       "    <tr>\n",
       "      <th>10</th>\n",
       "      <td>2</td>\n",
       "      <td>5</td>\n",
       "      <td>7</td>\n",
       "    </tr>\n",
       "    <tr>\n",
       "      <th>11</th>\n",
       "      <td>2</td>\n",
       "      <td>6</td>\n",
       "      <td>8</td>\n",
       "    </tr>\n",
       "    <tr>\n",
       "      <th>12</th>\n",
       "      <td>3</td>\n",
       "      <td>1</td>\n",
       "      <td>4</td>\n",
       "    </tr>\n",
       "    <tr>\n",
       "      <th>13</th>\n",
       "      <td>3</td>\n",
       "      <td>2</td>\n",
       "      <td>5</td>\n",
       "    </tr>\n",
       "    <tr>\n",
       "      <th>14</th>\n",
       "      <td>3</td>\n",
       "      <td>3</td>\n",
       "      <td>6</td>\n",
       "    </tr>\n",
       "    <tr>\n",
       "      <th>15</th>\n",
       "      <td>3</td>\n",
       "      <td>4</td>\n",
       "      <td>7</td>\n",
       "    </tr>\n",
       "    <tr>\n",
       "      <th>16</th>\n",
       "      <td>3</td>\n",
       "      <td>5</td>\n",
       "      <td>8</td>\n",
       "    </tr>\n",
       "    <tr>\n",
       "      <th>17</th>\n",
       "      <td>3</td>\n",
       "      <td>6</td>\n",
       "      <td>9</td>\n",
       "    </tr>\n",
       "    <tr>\n",
       "      <th>18</th>\n",
       "      <td>4</td>\n",
       "      <td>1</td>\n",
       "      <td>5</td>\n",
       "    </tr>\n",
       "    <tr>\n",
       "      <th>19</th>\n",
       "      <td>4</td>\n",
       "      <td>2</td>\n",
       "      <td>6</td>\n",
       "    </tr>\n",
       "    <tr>\n",
       "      <th>20</th>\n",
       "      <td>4</td>\n",
       "      <td>3</td>\n",
       "      <td>7</td>\n",
       "    </tr>\n",
       "    <tr>\n",
       "      <th>21</th>\n",
       "      <td>4</td>\n",
       "      <td>4</td>\n",
       "      <td>8</td>\n",
       "    </tr>\n",
       "    <tr>\n",
       "      <th>22</th>\n",
       "      <td>4</td>\n",
       "      <td>5</td>\n",
       "      <td>9</td>\n",
       "    </tr>\n",
       "    <tr>\n",
       "      <th>23</th>\n",
       "      <td>4</td>\n",
       "      <td>6</td>\n",
       "      <td>10</td>\n",
       "    </tr>\n",
       "    <tr>\n",
       "      <th>24</th>\n",
       "      <td>5</td>\n",
       "      <td>1</td>\n",
       "      <td>6</td>\n",
       "    </tr>\n",
       "    <tr>\n",
       "      <th>25</th>\n",
       "      <td>5</td>\n",
       "      <td>2</td>\n",
       "      <td>7</td>\n",
       "    </tr>\n",
       "    <tr>\n",
       "      <th>26</th>\n",
       "      <td>5</td>\n",
       "      <td>3</td>\n",
       "      <td>8</td>\n",
       "    </tr>\n",
       "    <tr>\n",
       "      <th>27</th>\n",
       "      <td>5</td>\n",
       "      <td>4</td>\n",
       "      <td>9</td>\n",
       "    </tr>\n",
       "    <tr>\n",
       "      <th>28</th>\n",
       "      <td>5</td>\n",
       "      <td>5</td>\n",
       "      <td>10</td>\n",
       "    </tr>\n",
       "    <tr>\n",
       "      <th>29</th>\n",
       "      <td>5</td>\n",
       "      <td>6</td>\n",
       "      <td>11</td>\n",
       "    </tr>\n",
       "    <tr>\n",
       "      <th>30</th>\n",
       "      <td>6</td>\n",
       "      <td>1</td>\n",
       "      <td>7</td>\n",
       "    </tr>\n",
       "    <tr>\n",
       "      <th>31</th>\n",
       "      <td>6</td>\n",
       "      <td>2</td>\n",
       "      <td>8</td>\n",
       "    </tr>\n",
       "    <tr>\n",
       "      <th>32</th>\n",
       "      <td>6</td>\n",
       "      <td>3</td>\n",
       "      <td>9</td>\n",
       "    </tr>\n",
       "    <tr>\n",
       "      <th>33</th>\n",
       "      <td>6</td>\n",
       "      <td>4</td>\n",
       "      <td>10</td>\n",
       "    </tr>\n",
       "    <tr>\n",
       "      <th>34</th>\n",
       "      <td>6</td>\n",
       "      <td>5</td>\n",
       "      <td>11</td>\n",
       "    </tr>\n",
       "    <tr>\n",
       "      <th>35</th>\n",
       "      <td>6</td>\n",
       "      <td>6</td>\n",
       "      <td>12</td>\n",
       "    </tr>\n",
       "  </tbody>\n",
       "</table>\n",
       "</div>"
      ],
      "text/plain": [
       "    dice1  dice2  Sum\n",
       "0       1      1    2\n",
       "1       1      2    3\n",
       "2       1      3    4\n",
       "3       1      4    5\n",
       "4       1      5    6\n",
       "5       1      6    7\n",
       "6       2      1    3\n",
       "7       2      2    4\n",
       "8       2      3    5\n",
       "9       2      4    6\n",
       "10      2      5    7\n",
       "11      2      6    8\n",
       "12      3      1    4\n",
       "13      3      2    5\n",
       "14      3      3    6\n",
       "15      3      4    7\n",
       "16      3      5    8\n",
       "17      3      6    9\n",
       "18      4      1    5\n",
       "19      4      2    6\n",
       "20      4      3    7\n",
       "21      4      4    8\n",
       "22      4      5    9\n",
       "23      4      6   10\n",
       "24      5      1    6\n",
       "25      5      2    7\n",
       "26      5      3    8\n",
       "27      5      4    9\n",
       "28      5      5   10\n",
       "29      5      6   11\n",
       "30      6      1    7\n",
       "31      6      2    8\n",
       "32      6      3    9\n",
       "33      6      4   10\n",
       "34      6      5   11\n",
       "35      6      6   12"
      ]
     },
     "execution_count": 55,
     "metadata": {},
     "output_type": "execute_result"
    }
   ],
   "source": [
    "df['Sum'] = df['dice1'] + df['dice2']\n",
    "df"
   ]
  },
  {
   "cell_type": "code",
   "execution_count": 56,
   "id": "ac935a2c",
   "metadata": {},
   "outputs": [
    {
     "data": {
      "text/html": [
       "<div>\n",
       "<style scoped>\n",
       "    .dataframe tbody tr th:only-of-type {\n",
       "        vertical-align: middle;\n",
       "    }\n",
       "\n",
       "    .dataframe tbody tr th {\n",
       "        vertical-align: top;\n",
       "    }\n",
       "\n",
       "    .dataframe thead th {\n",
       "        text-align: right;\n",
       "    }\n",
       "</style>\n",
       "<table border=\"1\" class=\"dataframe\">\n",
       "  <thead>\n",
       "    <tr style=\"text-align: right;\">\n",
       "      <th></th>\n",
       "      <th>index</th>\n",
       "      <th>Sum</th>\n",
       "    </tr>\n",
       "  </thead>\n",
       "  <tbody>\n",
       "    <tr>\n",
       "      <th>0</th>\n",
       "      <td>2</td>\n",
       "      <td>1</td>\n",
       "    </tr>\n",
       "    <tr>\n",
       "      <th>1</th>\n",
       "      <td>3</td>\n",
       "      <td>2</td>\n",
       "    </tr>\n",
       "    <tr>\n",
       "      <th>2</th>\n",
       "      <td>4</td>\n",
       "      <td>3</td>\n",
       "    </tr>\n",
       "    <tr>\n",
       "      <th>3</th>\n",
       "      <td>5</td>\n",
       "      <td>4</td>\n",
       "    </tr>\n",
       "    <tr>\n",
       "      <th>4</th>\n",
       "      <td>6</td>\n",
       "      <td>5</td>\n",
       "    </tr>\n",
       "    <tr>\n",
       "      <th>5</th>\n",
       "      <td>7</td>\n",
       "      <td>6</td>\n",
       "    </tr>\n",
       "    <tr>\n",
       "      <th>6</th>\n",
       "      <td>8</td>\n",
       "      <td>5</td>\n",
       "    </tr>\n",
       "    <tr>\n",
       "      <th>7</th>\n",
       "      <td>9</td>\n",
       "      <td>4</td>\n",
       "    </tr>\n",
       "    <tr>\n",
       "      <th>8</th>\n",
       "      <td>10</td>\n",
       "      <td>3</td>\n",
       "    </tr>\n",
       "    <tr>\n",
       "      <th>9</th>\n",
       "      <td>11</td>\n",
       "      <td>2</td>\n",
       "    </tr>\n",
       "    <tr>\n",
       "      <th>10</th>\n",
       "      <td>12</td>\n",
       "      <td>1</td>\n",
       "    </tr>\n",
       "  </tbody>\n",
       "</table>\n",
       "</div>"
      ],
      "text/plain": [
       "    index  Sum\n",
       "0       2    1\n",
       "1       3    2\n",
       "2       4    3\n",
       "3       5    4\n",
       "4       6    5\n",
       "5       7    6\n",
       "6       8    5\n",
       "7       9    4\n",
       "8      10    3\n",
       "9      11    2\n",
       "10     12    1"
      ]
     },
     "execution_count": 56,
     "metadata": {},
     "output_type": "execute_result"
    }
   ],
   "source": [
    "df_sum = pd.DataFrame(df['Sum'].value_counts().sort_index()).reset_index()\n",
    "df_sum"
   ]
  },
  {
   "cell_type": "code",
   "execution_count": 57,
   "id": "d3c08db0",
   "metadata": {},
   "outputs": [],
   "source": [
    "df_sum.rename(columns = {'index':'x'},inplace=True)"
   ]
  },
  {
   "cell_type": "code",
   "execution_count": 61,
   "id": "be3dbafc",
   "metadata": {},
   "outputs": [],
   "source": [
    "df_sum['probabilities'] = np.round(df_sum.Sum/len(df),3)"
   ]
  },
  {
   "cell_type": "code",
   "execution_count": 62,
   "id": "4ef3e50a",
   "metadata": {},
   "outputs": [
    {
     "data": {
      "text/html": [
       "<div>\n",
       "<style scoped>\n",
       "    .dataframe tbody tr th:only-of-type {\n",
       "        vertical-align: middle;\n",
       "    }\n",
       "\n",
       "    .dataframe tbody tr th {\n",
       "        vertical-align: top;\n",
       "    }\n",
       "\n",
       "    .dataframe thead th {\n",
       "        text-align: right;\n",
       "    }\n",
       "</style>\n",
       "<table border=\"1\" class=\"dataframe\">\n",
       "  <thead>\n",
       "    <tr style=\"text-align: right;\">\n",
       "      <th></th>\n",
       "      <th>x</th>\n",
       "      <th>Sum</th>\n",
       "      <th>probabilities</th>\n",
       "    </tr>\n",
       "  </thead>\n",
       "  <tbody>\n",
       "    <tr>\n",
       "      <th>0</th>\n",
       "      <td>2</td>\n",
       "      <td>1</td>\n",
       "      <td>0.028</td>\n",
       "    </tr>\n",
       "    <tr>\n",
       "      <th>1</th>\n",
       "      <td>3</td>\n",
       "      <td>2</td>\n",
       "      <td>0.056</td>\n",
       "    </tr>\n",
       "    <tr>\n",
       "      <th>2</th>\n",
       "      <td>4</td>\n",
       "      <td>3</td>\n",
       "      <td>0.083</td>\n",
       "    </tr>\n",
       "    <tr>\n",
       "      <th>3</th>\n",
       "      <td>5</td>\n",
       "      <td>4</td>\n",
       "      <td>0.111</td>\n",
       "    </tr>\n",
       "    <tr>\n",
       "      <th>4</th>\n",
       "      <td>6</td>\n",
       "      <td>5</td>\n",
       "      <td>0.139</td>\n",
       "    </tr>\n",
       "    <tr>\n",
       "      <th>5</th>\n",
       "      <td>7</td>\n",
       "      <td>6</td>\n",
       "      <td>0.167</td>\n",
       "    </tr>\n",
       "    <tr>\n",
       "      <th>6</th>\n",
       "      <td>8</td>\n",
       "      <td>5</td>\n",
       "      <td>0.139</td>\n",
       "    </tr>\n",
       "    <tr>\n",
       "      <th>7</th>\n",
       "      <td>9</td>\n",
       "      <td>4</td>\n",
       "      <td>0.111</td>\n",
       "    </tr>\n",
       "    <tr>\n",
       "      <th>8</th>\n",
       "      <td>10</td>\n",
       "      <td>3</td>\n",
       "      <td>0.083</td>\n",
       "    </tr>\n",
       "    <tr>\n",
       "      <th>9</th>\n",
       "      <td>11</td>\n",
       "      <td>2</td>\n",
       "      <td>0.056</td>\n",
       "    </tr>\n",
       "    <tr>\n",
       "      <th>10</th>\n",
       "      <td>12</td>\n",
       "      <td>1</td>\n",
       "      <td>0.028</td>\n",
       "    </tr>\n",
       "  </tbody>\n",
       "</table>\n",
       "</div>"
      ],
      "text/plain": [
       "     x  Sum  probabilities\n",
       "0    2    1          0.028\n",
       "1    3    2          0.056\n",
       "2    4    3          0.083\n",
       "3    5    4          0.111\n",
       "4    6    5          0.139\n",
       "5    7    6          0.167\n",
       "6    8    5          0.139\n",
       "7    9    4          0.111\n",
       "8   10    3          0.083\n",
       "9   11    2          0.056\n",
       "10  12    1          0.028"
      ]
     },
     "execution_count": 62,
     "metadata": {},
     "output_type": "execute_result"
    }
   ],
   "source": [
    "df_sum"
   ]
  },
  {
   "cell_type": "code",
   "execution_count": 64,
   "id": "79e5bdba",
   "metadata": {},
   "outputs": [],
   "source": [
    "df_sum['cummulative_probs'] = np.cumsum(df_sum['probabilities'])"
   ]
  },
  {
   "cell_type": "code",
   "execution_count": 65,
   "id": "6f668733",
   "metadata": {},
   "outputs": [
    {
     "data": {
      "text/html": [
       "<div>\n",
       "<style scoped>\n",
       "    .dataframe tbody tr th:only-of-type {\n",
       "        vertical-align: middle;\n",
       "    }\n",
       "\n",
       "    .dataframe tbody tr th {\n",
       "        vertical-align: top;\n",
       "    }\n",
       "\n",
       "    .dataframe thead th {\n",
       "        text-align: right;\n",
       "    }\n",
       "</style>\n",
       "<table border=\"1\" class=\"dataframe\">\n",
       "  <thead>\n",
       "    <tr style=\"text-align: right;\">\n",
       "      <th></th>\n",
       "      <th>x</th>\n",
       "      <th>Sum</th>\n",
       "      <th>probabilities</th>\n",
       "      <th>cummulative_probs</th>\n",
       "    </tr>\n",
       "  </thead>\n",
       "  <tbody>\n",
       "    <tr>\n",
       "      <th>0</th>\n",
       "      <td>2</td>\n",
       "      <td>1</td>\n",
       "      <td>0.028</td>\n",
       "      <td>0.028</td>\n",
       "    </tr>\n",
       "    <tr>\n",
       "      <th>1</th>\n",
       "      <td>3</td>\n",
       "      <td>2</td>\n",
       "      <td>0.056</td>\n",
       "      <td>0.084</td>\n",
       "    </tr>\n",
       "    <tr>\n",
       "      <th>2</th>\n",
       "      <td>4</td>\n",
       "      <td>3</td>\n",
       "      <td>0.083</td>\n",
       "      <td>0.167</td>\n",
       "    </tr>\n",
       "    <tr>\n",
       "      <th>3</th>\n",
       "      <td>5</td>\n",
       "      <td>4</td>\n",
       "      <td>0.111</td>\n",
       "      <td>0.278</td>\n",
       "    </tr>\n",
       "    <tr>\n",
       "      <th>4</th>\n",
       "      <td>6</td>\n",
       "      <td>5</td>\n",
       "      <td>0.139</td>\n",
       "      <td>0.417</td>\n",
       "    </tr>\n",
       "    <tr>\n",
       "      <th>5</th>\n",
       "      <td>7</td>\n",
       "      <td>6</td>\n",
       "      <td>0.167</td>\n",
       "      <td>0.584</td>\n",
       "    </tr>\n",
       "    <tr>\n",
       "      <th>6</th>\n",
       "      <td>8</td>\n",
       "      <td>5</td>\n",
       "      <td>0.139</td>\n",
       "      <td>0.723</td>\n",
       "    </tr>\n",
       "    <tr>\n",
       "      <th>7</th>\n",
       "      <td>9</td>\n",
       "      <td>4</td>\n",
       "      <td>0.111</td>\n",
       "      <td>0.834</td>\n",
       "    </tr>\n",
       "    <tr>\n",
       "      <th>8</th>\n",
       "      <td>10</td>\n",
       "      <td>3</td>\n",
       "      <td>0.083</td>\n",
       "      <td>0.917</td>\n",
       "    </tr>\n",
       "    <tr>\n",
       "      <th>9</th>\n",
       "      <td>11</td>\n",
       "      <td>2</td>\n",
       "      <td>0.056</td>\n",
       "      <td>0.973</td>\n",
       "    </tr>\n",
       "    <tr>\n",
       "      <th>10</th>\n",
       "      <td>12</td>\n",
       "      <td>1</td>\n",
       "      <td>0.028</td>\n",
       "      <td>1.001</td>\n",
       "    </tr>\n",
       "  </tbody>\n",
       "</table>\n",
       "</div>"
      ],
      "text/plain": [
       "     x  Sum  probabilities  cummulative_probs\n",
       "0    2    1          0.028              0.028\n",
       "1    3    2          0.056              0.084\n",
       "2    4    3          0.083              0.167\n",
       "3    5    4          0.111              0.278\n",
       "4    6    5          0.139              0.417\n",
       "5    7    6          0.167              0.584\n",
       "6    8    5          0.139              0.723\n",
       "7    9    4          0.111              0.834\n",
       "8   10    3          0.083              0.917\n",
       "9   11    2          0.056              0.973\n",
       "10  12    1          0.028              1.001"
      ]
     },
     "execution_count": 65,
     "metadata": {},
     "output_type": "execute_result"
    }
   ],
   "source": [
    "df_sum"
   ]
  },
  {
   "cell_type": "code",
   "execution_count": 67,
   "id": "27fbbbaf",
   "metadata": {},
   "outputs": [],
   "source": [
    "import seaborn as sns"
   ]
  },
  {
   "cell_type": "code",
   "execution_count": 69,
   "id": "f150452a",
   "metadata": {},
   "outputs": [
    {
     "name": "stderr",
     "output_type": "stream",
     "text": [
      "C:\\Users\\kiran\\anaconda3\\lib\\site-packages\\seaborn\\_decorators.py:36: FutureWarning: Pass the following variables as keyword args: x, y. From version 0.12, the only valid positional argument will be `data`, and passing other arguments without an explicit keyword will result in an error or misinterpretation.\n",
      "  warnings.warn(\n"
     ]
    },
    {
     "data": {
      "image/png": "[encoded data removed]",
      "text/plain": [
       "<Figure size 432x288 with 1 Axes>"
      ]
     },
     "metadata": {
      "needs_background": "light"
     },
     "output_type": "display_data"
    }
   ],
   "source": [
    "sns.barplot(df_sum['x'],df_sum['probabilities']);\n"
   ]
  },
  {
   "cell_type": "code",
   "execution_count": 70,
   "id": "61dff76a",
   "metadata": {},
   "outputs": [
    {
     "name": "stderr",
     "output_type": "stream",
     "text": [
      "C:\\Users\\kiran\\anaconda3\\lib\\site-packages\\seaborn\\_decorators.py:36: FutureWarning: Pass the following variables as keyword args: x, y. From version 0.12, the only valid positional argument will be `data`, and passing other arguments without an explicit keyword will result in an error or misinterpretation.\n",
      "  warnings.warn(\n"
     ]
    },
    {
     "data": {
      "image/png": "[encoded data removed]",
      "text/plain": [
       "<Figure size 432x288 with 1 Axes>"
      ]
     },
     "metadata": {
      "needs_background": "light"
     },
     "output_type": "display_data"
    }
   ],
   "source": [
    "sns.barplot(df_sum['x'],df_sum['cummulative_probs']);\n"
   ]
  },
  {
   "cell_type": "markdown",
   "id": "341d131a",
   "metadata": {},
   "source": [
    "https://latex.codecogs.com/eqneditor/editor.php"
   ]
  },
  {
   "cell_type": "markdown",
   "id": "0acee463",
   "metadata": {},
   "source": [
    "## $$mean = \\sum x * p(x)$$"
   ]
  },
  {
   "cell_type": "markdown",
   "id": "8faf7769",
   "metadata": {},
   "source": [
    "## $$variance = \\sum x^{2} * p(x) - \\bar{x} ^ {2}$$"
   ]
  },
  {
   "cell_type": "markdown",
   "id": "a544337a",
   "metadata": {},
   "source": [
    "### Binomial Distribution"
   ]
  },
  {
   "cell_type": "markdown",
   "id": "f11522f7",
   "metadata": {},
   "source": [
    "## $$p(x) = \\binom{n}{x} p^{x} q^{n-x}$$"
   ]
  },
  {
   "cell_type": "markdown",
   "id": "59bd262a",
   "metadata": {},
   "source": [
    "An agent sells life insurance policies to five equally aged, healthy people. According \n",
    "to recent data, the probability of a person living in these conditions for 30 years or \n",
    "more is 2/3. Calculate the probability that after 30 years:\n",
    "1. All five people are still living.\n",
    "2. At least three people are still living.\n",
    "3. Exactly two people are still living.\n"
   ]
  },
  {
   "cell_type": "code",
   "execution_count": 1,
   "id": "3388bc00",
   "metadata": {},
   "outputs": [],
   "source": [
    "from scipy import stats"
   ]
  },
  {
   "cell_type": "code",
   "execution_count": 2,
   "id": "fd6137e5",
   "metadata": {},
   "outputs": [
    {
     "data": {
      "text/plain": [
       "0.32921810699588466"
      ]
     },
     "execution_count": 2,
     "metadata": {},
     "output_type": "execute_result"
    }
   ],
   "source": [
    "stats.binom.pmf(3,5,2/3)"
   ]
  },
  {
   "cell_type": "code",
   "execution_count": 6,
   "id": "56cc4c21",
   "metadata": {},
   "outputs": [
    {
     "name": "stdout",
     "output_type": "stream",
     "text": [
      "0 probability is:  0.004115226337448562\n",
      "1 probability is:  0.041152263374485604\n",
      "2 probability is:  0.16460905349794244\n",
      "3 probability is:  0.32921810699588466\n",
      "4 probability is:  0.32921810699588466\n",
      "5 probability is:  0.13168724279835387\n"
     ]
    }
   ],
   "source": [
    "for i in range(6):\n",
    "    print(i, 'probability is: ',stats.binom.pmf(i,5,2/3))"
   ]
  },
  {
   "cell_type": "markdown",
   "id": "2503c207",
   "metadata": {},
   "source": [
    "p(x>=3) = 1 - p(x<3) = 1 - p(x<=2)"
   ]
  },
  {
   "cell_type": "code",
   "execution_count": 8,
   "id": "7acd5496",
   "metadata": {},
   "outputs": [
    {
     "data": {
      "text/plain": [
       "0.7901234567901234"
      ]
     },
     "execution_count": 8,
     "metadata": {},
     "output_type": "execute_result"
    }
   ],
   "source": [
    "1 - stats.binom.cdf(2,5,2/3)"
   ]
  },
  {
   "cell_type": "markdown",
   "id": "e4c3a63c",
   "metadata": {},
   "source": [
    "**If from six to seven in the evening one telephone line in every five is engaged in a \n",
    "conversation: what is the probability that when 10 telephone numbers are chosen at \n",
    "random, only two are in use?**\n"
   ]
  },
  {
   "cell_type": "markdown",
   "id": "30b2bf43",
   "metadata": {},
   "source": [
    "The probability of a man hitting the target at a shooting range is 1/4. If he shoots 10 \n",
    "times, what is the probability that he hits the target exactly three times? What is the \n",
    "probability that he hits the target at least once?"
   ]
  },
  {
   "cell_type": "code",
   "execution_count": 3,
   "id": "dc3ba5bc",
   "metadata": {},
   "outputs": [
    {
     "data": {
      "text/plain": [
       "0.2502822875976561"
      ]
     },
     "execution_count": 3,
     "metadata": {},
     "output_type": "execute_result"
    }
   ],
   "source": [
    "n = 10\n",
    "x = 3\n",
    "p = 1/4\n",
    "\n",
    "stats.binom.pmf(x,n,p)"
   ]
  },
  {
   "cell_type": "markdown",
   "id": "1f264b51",
   "metadata": {},
   "source": [
    "p(x>=1) = 1 - p(x<1) = 1 - p(x<=0)"
   ]
  },
  {
   "cell_type": "code",
   "execution_count": 4,
   "id": "078dfa74",
   "metadata": {},
   "outputs": [
    {
     "data": {
      "text/plain": [
       "0.9436864852905273"
      ]
     },
     "execution_count": 4,
     "metadata": {},
     "output_type": "execute_result"
    }
   ],
   "source": [
    "1 - stats.binom.cdf(0,10,1/4)"
   ]
  },
  {
   "cell_type": "code",
   "execution_count": 5,
   "id": "fd402464",
   "metadata": {},
   "outputs": [
    {
     "data": {
      "text/plain": [
       "0.056313514709472656"
      ]
     },
     "execution_count": 5,
     "metadata": {},
     "output_type": "execute_result"
    }
   ],
   "source": [
    "stats.binom.pmf(0,10,1/4)"
   ]
  },
  {
   "cell_type": "code",
   "execution_count": 7,
   "id": "999aabbf",
   "metadata": {},
   "outputs": [
    {
     "name": "stdout",
     "output_type": "stream",
     "text": [
      "0 probability is:  0.056313514709472656 - 0.056313514709472684\n",
      "1 probability is:  0.1877117156982421 - 0.24402523040771484\n",
      "2 probability is:  0.2815675735473633 - 0.5255928039550781\n",
      "3 probability is:  0.2502822875976561 - 0.7758750915527344\n",
      "4 probability is:  0.14599800109863284 - 0.9218730926513672\n",
      "5 probability is:  0.058399200439453146 - 0.9802722930908203\n",
      "6 probability is:  0.016222000122070295 - 0.9964942932128906\n",
      "7 probability is:  0.0030899047851562496 - 0.9995841979980469\n",
      "8 probability is:  0.00038623809814453125 - 0.9999704360961914\n",
      "9 probability is:  2.8610229492187456e-05 - 0.9999990463256836\n",
      "10 probability is:  9.5367431640625e-07 - 1.0\n"
     ]
    }
   ],
   "source": [
    "for i in range(11):\n",
    "    print(i, 'probability is: ',stats.binom.pmf(i,10,1/4),'-',\n",
    "          stats.binom.cdf(i,10,1/4))"
   ]
  },
  {
   "cell_type": "code",
   "execution_count": 8,
   "id": "995ba80d",
   "metadata": {},
   "outputs": [
    {
     "data": {
      "text/plain": [
       "2.5"
      ]
     },
     "execution_count": 8,
     "metadata": {},
     "output_type": "execute_result"
    }
   ],
   "source": [
    "mean = n * p \n",
    "mean"
   ]
  },
  {
   "cell_type": "markdown",
   "id": "bef1f4c9",
   "metadata": {},
   "source": [
    "### Poisson Distribution"
   ]
  },
  {
   "cell_type": "markdown",
   "id": "2b3a2dc5",
   "metadata": {},
   "source": [
    "## $$p(x) = \\frac {{}e^{-\\lambda } * \\lambda ^{x}}{x!}$$"
   ]
  },
  {
   "cell_type": "markdown",
   "id": "6fa0fb2d",
   "metadata": {},
   "source": [
    "\n",
    " **In a cafe, the customer arrives at a mean rate of 2 per min. Find the probability of \n",
    "arrival of 5 customers in 1 minute**"
   ]
  },
  {
   "cell_type": "code",
   "execution_count": 9,
   "id": "4c055479",
   "metadata": {},
   "outputs": [
    {
     "data": {
      "text/plain": [
       "0.03608940886309672"
      ]
     },
     "execution_count": 9,
     "metadata": {},
     "output_type": "execute_result"
    }
   ],
   "source": [
    "avg = 2\n",
    "x = 5\n",
    "\n",
    "stats.poisson.pmf(x,avg)"
   ]
  },
  {
   "cell_type": "markdown",
   "id": "cc5d8901",
   "metadata": {},
   "source": [
    " If 3% of electronic units manufactured by a company are defective. Find the \n",
    "probability that in a sample of 200 units, less than 2 bulbs are defective.\n"
   ]
  },
  {
   "cell_type": "markdown",
   "id": "54541977",
   "metadata": {},
   "source": [
    "A manufacturer produces light-bulbs that are packed into boxes of 100. If quality control \n",
    "studies indicate that 0.5% of the light-bulbs produced are defective, what percentage of the \n",
    "boxes will contain"
   ]
  },
  {
   "cell_type": "code",
   "execution_count": 10,
   "id": "351008f7",
   "metadata": {},
   "outputs": [
    {
     "data": {
      "text/plain": [
       "0.15865525393145707"
      ]
     },
     "execution_count": 10,
     "metadata": {},
     "output_type": "execute_result"
    }
   ],
   "source": [
    "\n",
    "stats.norm.cdf(90,100,10)"
   ]
  },
  {
   "cell_type": "markdown",
   "id": "1f61c954",
   "metadata": {},
   "source": [
    "Most graduate schools of business require applicants for admission to take the Graduate \n",
    "Management Admission Council’s GMAT examination. Scores on the GMAT are roughly \n",
    "normally distributed with a mean of 527 and a standard deviation of 112. What is the \n",
    "probability of an individual scoring above 500 on the GMAT?"
   ]
  },
  {
   "cell_type": "code",
   "execution_count": 12,
   "id": "04c3ecd8",
   "metadata": {},
   "outputs": [],
   "source": [
    "mean = 527\n",
    "sd = 112\n",
    "x = 500\n",
    "\n",
    "p_x_less_or_equal = stats.norm.cdf(500,527,112)"
   ]
  },
  {
   "cell_type": "code",
   "execution_count": 13,
   "id": "17df294a",
   "metadata": {},
   "outputs": [
    {
     "data": {
      "text/plain": [
       "0.5952501217429682"
      ]
     },
     "execution_count": 13,
     "metadata": {},
     "output_type": "execute_result"
    }
   ],
   "source": [
    "p_x_greater_500 = 1 - p_x_less_or_equal\n",
    "p_x_greater_500"
   ]
  },
  {
   "cell_type": "code",
   "execution_count": null,
   "id": "1489048b",
   "metadata": {},
   "outputs": [],
   "source": []
  }
 ],
 "metadata": {
  "kernelspec": {
   "display_name": "Python 3 (ipykernel)",
   "language": "python",
   "name": "python3"
  },
  "language_info": {
   "codemirror_mode": {
    "name": "ipython",
    "version": 3
   },
   "file_extension": ".py",
   "mimetype": "text/x-python",
   "name": "python",
   "nbconvert_exporter": "python",
   "pygments_lexer": "ipython3",
   "version": "3.9.12"
  }
 },
 "nbformat": 4,
 "nbformat_minor": 5
}
